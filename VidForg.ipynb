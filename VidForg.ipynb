{
  "nbformat": 4,
  "nbformat_minor": 0,
  "metadata": {
    "colab": {
      "name": "VidForg.ipynb",
      "provenance": [],
      "private_outputs": true,
      "authorship_tag": "ABX9TyNxtt4GTn7y4Kvx0b6OjpFG",
      "include_colab_link": true
    },
    "kernelspec": {
      "name": "python3",
      "display_name": "Python 3"
    }
  },
  "cells": [
    {
      "cell_type": "markdown",
      "metadata": {
        "id": "view-in-github",
        "colab_type": "text"
      },
      "source": [
        "<a href=\"https://colab.research.google.com/github/aritrartira/Tamura-Textures-Feature-Extraction-in-Python/blob/master/VidForg.ipynb\" target=\"_parent\"><img src=\"https://colab.research.google.com/assets/colab-badge.svg\" alt=\"Open In Colab\"/></a>"
      ]
    },
    {
      "cell_type": "markdown",
      "metadata": {
        "id": "YDX41SBfJcoH",
        "colab_type": "text"
      },
      "source": [
        "# Video Copy-Move Forgery Detection and Localization Based on Tamura Texture Features"
      ]
    },
    {
      "cell_type": "markdown",
      "metadata": {
        "id": "Shz0L698JrFo",
        "colab_type": "text"
      },
      "source": [
        "## Tamura Textures"
      ]
    },
    {
      "cell_type": "markdown",
      "metadata": {
        "id": "W342swPjKp64",
        "colab_type": "text"
      },
      "source": [
        "From https://github.com/MarshalLeeeeee/Tamura-In-Python and https://github.com/Sdhir/TamuraFeatures"
      ]
    },
    {
      "cell_type": "markdown",
      "metadata": {
        "id": "w7TwezO6x-u1",
        "colab_type": "text"
      },
      "source": [
        "### Coarseness"
      ]
    },
    {
      "cell_type": "code",
      "metadata": {
        "id": "YdfwJL4ndb1P",
        "colab_type": "code",
        "colab": {}
      },
      "source": [
        "import cv2 as cv\n",
        "import numpy as np\n",
        "import math\n",
        "\n",
        "def coarseness(img):\n",
        "    r, c = img.shape\n",
        "    img = np.float32(img)\n",
        "\n",
        "    A1 = np.zeros((r,c))\n",
        "    A2 = np.zeros((r,c))\n",
        "    A3 = np.zeros((r,c))\n",
        "    A4 = np.zeros((r,c))\n",
        "    A5 = np.zeros((r,c))\n",
        "    A6 = np.zeros((r,c))\n",
        "\n",
        "    Sbest = np.zeros((r, c))\n",
        "\n",
        "    E1h = np.zeros((r, c))\n",
        "    E1v = np.zeros((r, c))\n",
        "    E2h = np.zeros((r, c))\n",
        "    E2v = np.zeros((r, c))\n",
        "    E3h = np.zeros((r, c))\n",
        "    E3v = np.zeros((r, c))\n",
        "    E4h = np.zeros((r, c))\n",
        "    E4v = np.zeros((r, c))\n",
        "    E5h = np.zeros((r, c))\n",
        "    E5v = np.zeros((r, c))\n",
        "    E6h = np.zeros((r, c))\n",
        "    E6v = np.zeros((r, c))\n",
        "\n",
        "    flag = 0\n",
        "\n",
        "    for x in range(1, r):\n",
        "        for y in range(1, c):\n",
        "            A1[x,y] = (np.sum(np.sum(img[x-1:x+1,y-1:y+1])))\n",
        "\n",
        "    for x in range(1, r - 1):\n",
        "        for y in range(1, c - 1):\n",
        "            E1h[x,y] = A1[x+1,y]-A1[x-1,y]\n",
        "            E1v[x,y] = A1[x,y+1]-A1[x,y-1]\n",
        "\n",
        "    E1h = E1h/2**(2*1)\n",
        "    E1v = E1v/2**(2*1)\n",
        "\n",
        "    if r < 4 or c < 4:\n",
        "        flag = 1\n",
        "    \n",
        "    if flag == 0:\n",
        "        for x in range(2, r - 1):\n",
        "            for y in range(2, c - 1):\n",
        "                A2[x,y]=(np.sum(np.sum(img[x-2:x+2, y-2:y+2])))\n",
        "        \n",
        "        for x in range(2, r - 2):\n",
        "            for y in range(2, c - 2):\n",
        "                E2h[x,y] = A2[x+2,y]-A2[x-2,y]\n",
        "                E2v[x,y] = A2[x,y+2]-A2[x,y-2]\n",
        "\n",
        "    E2h = E2h/2**(2*2)\n",
        "    E2v = E2v/2**(2*2)\n",
        "\n",
        "    if r < 8 or c < 8:\n",
        "        flag = 1\n",
        "    \n",
        "    if flag == 0:\n",
        "        for x in range(4, r - 3):\n",
        "            for y in range(4, c - 3):\n",
        "                A3[x,y]=(np.sum(np.sum(img[x-4:x+4, y-4:y+4])))\n",
        "        \n",
        "        for x in range(4, r - 4):\n",
        "            for y in range(4, c - 4):\n",
        "                E3h[x,y] = A3[x+4,y]-A3[x-4,y]\n",
        "                E3v[x,y] = A3[x,y+4]-A3[x,y-4]\n",
        "\n",
        "    E3h = E3h/2**(2*3)\n",
        "    E3v = E3v/2**(2*3)\n",
        "\n",
        "    if r < 16 or c < 16:\n",
        "        flag = 1\n",
        "    \n",
        "    if flag == 0:\n",
        "        for x in range(8, r - 7):\n",
        "            for y in range(8, c - 7):\n",
        "                A4[x,y]=(np.sum(np.sum(img[x-8:x+8, y-8:y+8])))\n",
        "        \n",
        "        for x in range(8, r - 8):\n",
        "            for y in range(8, c - 8):\n",
        "                E4h[x,y] = A4[x+8,y]-A4[x-8,y]\n",
        "                E4v[x,y] = A4[x,y+8]-A4[x,y-8]\n",
        "\n",
        "    E4h = E4h/2**(2*4)\n",
        "    E4v = E4v/2**(2*4)\n",
        "\n",
        "    if r < 32 or c < 32:\n",
        "        flag = 1\n",
        "    \n",
        "    if flag == 0:\n",
        "        for x in range(16, r - 15):\n",
        "            for y in range(16, c - 15):\n",
        "                A5[x,y]=(np.sum(np.sum(img[x-16:x+16, y-16:y+16])))\n",
        "        \n",
        "        for x in range(16, r - 16):\n",
        "            for y in range(16, c - 16):\n",
        "                E5h[x,y] = A5[x+16,y]-A5[x-16,y]\n",
        "                E5v[x,y] = A5[x,y+16]-A5[x,y-16]\n",
        "\n",
        "    E5h = E5h/2**(2*5)\n",
        "    E5v = E5v/2**(2*5)\n",
        "\n",
        "    if r < 64 or c < 64:\n",
        "        flag = 1\n",
        "    \n",
        "    if flag == 0:\n",
        "        for x in range(64, r - 63):\n",
        "            for y in range(64, c - 63):\n",
        "                A6[x,y]=(np.sum(np.sum(img[x-64:x+64, y-64:y+64])))\n",
        "        \n",
        "        for x in range(64, r - 64):\n",
        "            for y in range(64, c - 64):\n",
        "                E6h[x,y] = A6[x+64,y]-A6[x-64,y]\n",
        "                E6v[x,y] = A6[x,y+64]-A6[x,y-64]\n",
        "\n",
        "    E6h = E6h/2**(2*6)\n",
        "    E6v = E6v/2**(2*6)\n",
        "\n",
        "    for i in range(0, r):\n",
        "        for j in range(0, c):\n",
        "            maxv = np.max(np.array([abs(E1h[i,j]), abs(E1v[i,j]), abs(E2h[i,j]), abs(E2v[i,j]), abs(E3h[i,j]), abs(E3v[i,j]), abs(E4h[i,j]), abs(E4v[i,j]), abs(E5h[i,j]), abs(E5v[i,j]), abs(E6h[i,j]), abs(E6v[i,j])]))\n",
        "            index = np.argmax(np.array([abs(E1h[i,j]), abs(E1v[i,j]), abs(E2h[i,j]), abs(E2v[i,j]), abs(E3h[i,j]), abs(E3v[i,j]), abs(E4h[i,j]), abs(E4v[i,j]), abs(E5h[i,j]), abs(E5v[i,j]), abs(E6h[i,j]), abs(E6v[i,j])]))\n",
        "            k=math.floor((index+1)/2)\n",
        "            Sbest[i, j] = 2 ** k\n",
        "\n",
        "    return np.sum(np.sum(Sbest))/(r*c)"
      ],
      "execution_count": null,
      "outputs": []
    },
    {
      "cell_type": "markdown",
      "metadata": {
        "id": "J5cvlxHkyDQK",
        "colab_type": "text"
      },
      "source": [
        "### Contrast"
      ]
    },
    {
      "cell_type": "code",
      "metadata": {
        "id": "LAtM-HLSyJMm",
        "colab_type": "code",
        "colab": {}
      },
      "source": [
        "import numpy as np\n",
        "import cv2 as cv\n",
        "\n",
        "def contrast(img):\n",
        "    img = np.float32(img)\n",
        "    x = np.copy(img)\n",
        "    M4 = np.mean((x - np.mean(x)) ** 4)\n",
        "    delta2 = np.var(x)\n",
        "    alfa4 = M4/(delta2 ** 2)\n",
        "    delta = np.std(x)\n",
        "    return delta/(alfa4 ** (1/4))"
      ],
      "execution_count": null,
      "outputs": []
    },
    {
      "cell_type": "markdown",
      "metadata": {
        "id": "moWcVB-T3OTc",
        "colab_type": "text"
      },
      "source": [
        "### Directionality"
      ]
    },
    {
      "cell_type": "code",
      "metadata": {
        "id": "NrTe6k4x6Foi",
        "colab_type": "code",
        "colab": {}
      },
      "source": [
        "def directionality(image):\n",
        "\timage = np.array(image, dtype = 'int64')\n",
        "\th = image.shape[0]\n",
        "\tw = image.shape[1]\n",
        "\tconvH = np.array([[-1,0,1],[-1,0,1],[-1,0,1]])\n",
        "\tconvV = np.array([[1,1,1],[0,0,0],[-1,-1,-1]])\n",
        "\tdeltaH = np.zeros([h,w])\n",
        "\tdeltaV = np.zeros([h,w])\n",
        "\ttheta = np.zeros([h,w])\n",
        "\n",
        "\t# calc for deltaH\n",
        "\tfor hi in range(h)[1:h-1]:\n",
        "\t\tfor wi in range(w)[1:w-1]:\n",
        "\t\t\tdeltaH[hi][wi] = np.sum(np.multiply(image[hi-1:hi+2, wi-1:wi+2], convH))\n",
        "\tfor wi in range(w)[1:w-1]:\n",
        "\t\tdeltaH[0][wi] = image[0][wi+1] - image[0][wi]\n",
        "\t\tdeltaH[h-1][wi] = image[h-1][wi+1] - image[h-1][wi]\n",
        "\tfor hi in range(h):\n",
        "\t\tdeltaH[hi][0] = image[hi][1] - image[hi][0]\n",
        "\t\tdeltaH[hi][w-1] = image[hi][w-1] - image[hi][w-2]\n",
        "\n",
        "\t# calc for deltaV\n",
        "\tfor hi in range(h)[1:h-1]:\n",
        "\t\tfor wi in range(w)[1:w-1]:\n",
        "\t\t\tdeltaV[hi][wi] = np.sum(np.multiply(image[hi-1:hi+2, wi-1:wi+2], convV))\n",
        "\tfor wi in range(w):\n",
        "\t\tdeltaV[0][wi] = image[1][wi] - image[0][wi]\n",
        "\t\tdeltaV[h-1][wi] = image[h-1][wi] - image[h-2][wi]\n",
        "\tfor hi in range(h)[1:h-1]:\n",
        "\t\tdeltaV[hi][0] = image[hi+1][0] - image[hi][0]\n",
        "\t\tdeltaV[hi][w-1] = image[hi+1][w-1] - image[hi][w-1]\n",
        "\n",
        "\tdeltaG = (np.absolute(deltaH) + np.absolute(deltaV)) / 2.0\n",
        "\tdeltaG_vec = np.reshape(deltaG, (deltaG.shape[0] * deltaG.shape[1]))\n",
        "\n",
        "\t# calc the theta\n",
        "\tfor hi in range(h):\n",
        "\t\tfor wi in range(w):\n",
        "\t\t\tif (deltaH[hi][wi] == 0 and deltaV[hi][wi] == 0):\n",
        "\t\t\t\ttheta[hi][wi] = 0;\n",
        "\t\t\telif(deltaH[hi][wi] == 0):\n",
        "\t\t\t\ttheta[hi][wi] = np.pi\n",
        "\t\t\telse:\n",
        "\t\t\t\ttheta[hi][wi] = np.arctan(deltaV[hi][wi] / deltaH[hi][wi]) + np.pi / 2.0\n",
        "\ttheta_vec = np.reshape(theta, (theta.shape[0] * theta.shape[1]))\n",
        "\n",
        "\tn = 16\n",
        "\tt = 12\n",
        "\tcnt = 0\n",
        "\thd = np.zeros(n)\n",
        "\tdlen = deltaG_vec.shape[0]\n",
        "\tfor ni in range(n):\n",
        "\t\tfor k in range(dlen):\n",
        "\t\t\tif((deltaG_vec[k] >= t) and (theta_vec[k] >= (2*ni-1) * np.pi / (2 * n)) and (theta_vec[k] < (2*ni+1) * np.pi / (2 * n))):\n",
        "\t\t\t\thd[ni] += 1\n",
        "\thd = hd / np.mean(hd)\n",
        "\thd_max_index = np.argmax(hd)\n",
        "\tfdir = 0\n",
        "\tfor ni in range(n):\n",
        "\t\tfdir += np.power((ni - hd_max_index), 2) * hd[ni]\n",
        "\treturn fdir"
      ],
      "execution_count": null,
      "outputs": []
    },
    {
      "cell_type": "markdown",
      "metadata": {
        "id": "CgPQweEfVLRt",
        "colab_type": "text"
      },
      "source": [
        "## Frame extraction"
      ]
    },
    {
      "cell_type": "code",
      "metadata": {
        "id": "n82b83V1VQJ3",
        "colab_type": "code",
        "colab": {}
      },
      "source": [
        "import cv2 as cv\n",
        "import numpy as np\n",
        "\n",
        "def extractFrames(video):\n",
        "    # Opens the Video file\n",
        "    cap= cv.VideoCapture(video)\n",
        "    frames = []\n",
        "    i=0\n",
        "    while(cap.isOpened()):\n",
        "        ret, frame = cap.read()\n",
        "        if ret == False:\n",
        "            break\n",
        "        frames.append(frame)\n",
        "        i+=1\n",
        "    \n",
        "    cap.release()\n",
        "    cv.destroyAllWindows()\n",
        "    return np.array(frames)"
      ],
      "execution_count": null,
      "outputs": []
    },
    {
      "cell_type": "markdown",
      "metadata": {
        "id": "cNMGMuzeyGZj",
        "colab_type": "text"
      },
      "source": [
        "## Creating Tamura Texture feature vectors"
      ]
    },
    {
      "cell_type": "code",
      "metadata": {
        "id": "4_pQwfZFDV-K",
        "colab_type": "code",
        "colab": {}
      },
      "source": [
        "def createTamuraFV(image):\n",
        "    #image = cv.cvtColor(image, cv.COLOR_BGR2GRAY)\n",
        "    return np.array([coarseness(image), contrast(image), directionality(image)])"
      ],
      "execution_count": null,
      "outputs": []
    },
    {
      "cell_type": "markdown",
      "metadata": {
        "id": "1TyXSrG1EV4i",
        "colab_type": "text"
      },
      "source": [
        "## Creating feature vector matrix"
      ]
    },
    {
      "cell_type": "code",
      "metadata": {
        "id": "iSQZD39zEVJw",
        "colab_type": "code",
        "colab": {}
      },
      "source": [
        "import cv2 as cv\n",
        "import numpy as np\n",
        "import csv\n",
        "\n",
        "video = \"/content/01_original_enc10.avi\"\n",
        "frames = extractFrames(video)\n",
        "X = []\n",
        "for frame in frames:\n",
        "    frame = cv.cvtColor(frame, cv.COLOR_BGR2GRAY)\n",
        "    X.append(createTamuraFV(frame))\n",
        "\n",
        "X = np.array(X)\n",
        "np.savetxt(\"/content/vid1.csv\", X, delimiter=\",\")"
      ],
      "execution_count": null,
      "outputs": []
    }
  ]
}